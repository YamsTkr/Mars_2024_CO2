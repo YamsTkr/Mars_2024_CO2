{
 "cells": [
  {
   "cell_type": "code",
   "execution_count": null,
   "id": "8892cf6f-d03c-42f4-b2f4-82a1a790b956",
   "metadata": {},
   "outputs": [],
   "source": [
    "import pandas as pd\n",
    "import numpy as np\n",
    "import matplotlib.pyplot as plt\n",
    "import seaborn as sns \n",
    "%matplotlib inline\n",
    "from IPython.display import display, HTML"
   ]
  },
  {
   "cell_type": "code",
   "execution_count": null,
   "id": "8806b654-2024-4938-9739-4203b8467300",
   "metadata": {},
   "outputs": [],
   "source": [
    "#Importer la data (attention modifier le nom du fichier csv en conséquence): \n",
    "df = pd.read_csv(\"2022.csv\")\n",
    "df.head()\n"
   ]
  },
  {
   "cell_type": "markdown",
   "id": "f7ae2339-9d48-4dc8-9e50-c952b4acc67f",
   "metadata": {},
   "source": [
    "# <font color='red'>1/ Informations générales :</font>"
   ]
  },
  {
   "cell_type": "markdown",
   "id": "fdfc39ed-b16f-428d-8ea9-8676bb959f55",
   "metadata": {},
   "source": [
    "### <font color='blue'> Taille du dataframe : </font>"
   ]
  },
  {
   "cell_type": "code",
   "execution_count": null,
   "id": "51e0ba25-89e3-4282-8c11-90fe4e7a4686",
   "metadata": {},
   "outputs": [],
   "source": [
    "dimensions = df.shape\n",
    "dimensions"
   ]
  },
  {
   "cell_type": "markdown",
   "id": "99a1d083-473b-452f-b668-131d48b3072b",
   "metadata": {},
   "source": [
    "### <font color='blue'> Informations sur les variables : </font>"
   ]
  },
  {
   "cell_type": "code",
   "execution_count": null,
   "id": "35e736f8-0cd2-4cdd-84c7-2454df6a7f33",
   "metadata": {},
   "outputs": [],
   "source": [
    "# Définir une fonction pour afficher les informations en deux colonnes\n",
    "def display_info_two_columns(df):\n",
    "    # Créer un DataFrame temporaire pour stocker les informations\n",
    "    info_df = df.dtypes.to_frame(name='type des variables')\n",
    "    info_df['pourcentage des nan'] = df.isnull().sum()/ len(df) * 100\n",
    "    \n",
    "    # Diviser le DataFrame en deux parties\n",
    "    midpoint = len(info_df) // 2\n",
    "    info_df_left = info_df.iloc[:midpoint]\n",
    "    info_df_right = info_df.iloc[midpoint:]\n",
    "    \n",
    "    # Afficher les deux parties côte à côte\n",
    "    html_output = (\n",
    "        '<div style=\"display: flex; justify-content: space-between;\">'\n",
    "        f'<div>{info_df_left.to_html()}</div>'\n",
    "        f'<div>{info_df_right.to_html()}</div>'\n",
    "        '</div>'\n",
    "    )\n",
    "        # Enregistrement du contenu HTML dans un fichier HTML\n",
    "    with open('info_table.html', 'w') as file:\n",
    "        file.write(html_output)\n",
    "\n",
    "    # Affichage d'un lien pour télécharger le fichier\n",
    "    display(HTML('<a href=\"info_table.html\" download=\"info_table.html\">Télécharger le tableau</a>'))\n",
    "\n",
    "    \n",
    "    # Afficher le résultat avec la fonction display\n",
    "    display(HTML(html_output))\n",
    "\n",
    "# Afficher les informations du DataFrame en deux colonnes\n",
    "display_info_two_columns(df)"
   ]
  },
  {
   "cell_type": "markdown",
   "id": "0ad3a0c1-2b99-4a4e-9db5-19377f614062",
   "metadata": {},
   "source": [
    "# <font color='red'>2/ Preprocessing :</font>"
   ]
  },
  {
   "cell_type": "markdown",
   "id": "bc31c4ed-4395-4dd7-bc1e-535a09477ce8",
   "metadata": {},
   "source": [
    "### <font color='blue'> Gérer les doublons : </font>"
   ]
  },
  {
   "cell_type": "code",
   "execution_count": null,
   "id": "cb6e7769-6154-4fd8-9145-5527988ad523",
   "metadata": {},
   "outputs": [],
   "source": [
    "num_duplicates = df.duplicated().sum()\n",
    "num_duplicates\n",
    "# Il n'a pas de doublons"
   ]
  },
  {
   "cell_type": "markdown",
   "id": "41228d0a-88cc-46eb-975d-d6b4f7090bd7",
   "metadata": {},
   "source": [
    "### <font color='blue'> Graphiques avant Data Cleaning :  </font>"
   ]
  },
  {
   "cell_type": "code",
   "execution_count": null,
   "id": "9f290e46-6cd3-4bbb-b31d-7941521be47f",
   "metadata": {},
   "outputs": [],
   "source": [
    "df.boxplot(column = \"Ewltp (g/km)\", by= \"Ft\", figsize = (12,10))\n",
    "df.boxplot(column = \"Fuel consumption \", by= \"Ft\", figsize = (12,10))\n"
   ]
  },
  {
   "cell_type": "markdown",
   "id": "f50c4a8b-a3a7-4596-8d16-f652341385a9",
   "metadata": {
    "jp-MarkdownHeadingCollapsed": true
   },
   "source": [
    "### <font color='blue'> Analyse comparative des variables Fuel consumption et émissions de CO2: </font>"
   ]
  },
  {
   "cell_type": "code",
   "execution_count": null,
   "id": "41f712fe-ed97-4fd2-8f85-5449d6735dd2",
   "metadata": {},
   "outputs": [],
   "source": [
    "# Temps d'execution long \n",
    "sns.pairplot(df[(df[\"Ft\"] != 'electric') & (df[\"Ft\"] != 'hydrogen')], \n",
    "             vars=['Fuel consumption ','Ewltp (g/km)'], hue= \"Ft\")\n",
    "\n",
    "plt.title(\"Analyse comparative des variables Fuel consumption et émissions de CO2 (Ewltp (g/km)) pour tous les véhicules hors 100% électriques et à hydrogène\")\n",
    "plt.show();"
   ]
  },
  {
   "cell_type": "code",
   "execution_count": null,
   "id": "143a3a6e",
   "metadata": {},
   "outputs": [],
   "source": [
    "# Temps d'execution long \n",
    "sns.pairplot(df[(df['Ft'] == 'electric') | (df['Ft'] == 'hydrogen') | (df['Ft'] == 'petrol/electric') | (df['Ft'] == 'diesel/electric')], \n",
    "             vars=['m (kg)', 'W (mm)', 'At1 (mm)','z (Wh/km)', 'Electric range (km)'], \n",
    "             hue=''Ft')\n",
    "plt.title(\"Analyse comparative des variables masse, empattement,voie avant, puissance moteur et autonomie pour tous  les véhicules hors ICE(petrol, diesel, e85, ng, lpg)\")\n",
    "plt.show();\n"
   ]
  },
  {
   "cell_type": "markdown",
   "id": "fbd1391c-d0c1-4bac-b48c-ae05dad62836",
   "metadata": {},
   "source": [
    "### <font color='blue'> Supprimer les variables inutiles : </font>"
   ]
  },
  {
   "cell_type": "code",
   "execution_count": null,
   "id": "f1119ffe-39e3-48ae-a989-0635b0839b53",
   "metadata": {},
   "outputs": [],
   "source": [
    "columns_to_drop = ['ID', 'VFN', 'Mh', 'Man', 'Tan','T', 'Va', 'Ve', 'Mk', 'Cn',\n",
    "                  'Ct', 'Cr', 'r', 'Date of registration','Status', 'year', 'MMS', 'De', 'Vf']\n",
    "\n",
    "df.drop(columns=columns_to_drop, axis = 1, inplace=True)\n",
    "# On supprime les colonnes redondantes ou inutilisables (Mt,IT,Fm)\n",
    "df = df.drop([\"Mt\",\"IT\",\"Fm\", \"Fuel consumption \"], axis = 1)"
   ]
  },
  {
   "cell_type": "markdown",
   "id": "b102c3e1-ab84-4bcf-9f6f-737ab9f62140",
   "metadata": {},
   "source": [
    "### <font color='blue'> Analyse préliminaire avant le nettoyage des données: </font>"
   ]
  },
  {
   "cell_type": "code",
   "execution_count": null,
   "id": "dbacf902-a546-421d-b592-58e401b6e8e0",
   "metadata": {},
   "outputs": [],
   "source": [
    "sns.kdeplot(data=df, x='Ewltp (g/km)',hue='Ft')\n",
    "\n",
    "# Ajout du titre et des noms des axes\n",
    "plt.title(\"Analyse de la distribution des émissions de CO2 par types de véhicules\")\n",
    "plt.xlabel(\"Emission_co2_(g/km)\")\n",
    "\n",
    "# Affichage du graphique\n",
    "plt.show()"
   ]
  },
  {
   "cell_type": "markdown",
   "id": "70700870-264a-4d37-98d6-12b4e6b3d338",
   "metadata": {},
   "source": [
    "### <font color='blue'> Supprimer les nan de la variable cible: </font>"
   ]
  },
  {
   "cell_type": "code",
   "execution_count": null,
   "id": "73c7cc19-dbc4-4531-8aee-7b905c15d0ed",
   "metadata": {},
   "outputs": [],
   "source": [
    "df = df.dropna(axis = 0, subset=\"Ewltp (g/km)\")"
   ]
  },
  {
   "cell_type": "markdown",
   "id": "de4da2f9-095e-4c67-9a07-82259dc32c9e",
   "metadata": {},
   "source": [
    "### <font color='blue'> Supprimer les variables avec plus de 80% de nan :  </font>"
   ]
  },
  {
   "cell_type": "code",
   "execution_count": null,
   "id": "5e8467cd-fdc8-4a35-b806-79d5ab05a4e4",
   "metadata": {},
   "outputs": [],
   "source": [
    "# Calculer le pourcentage de valeurs manquantes pour chaque variable\n",
    "missing_percentages = (df.isnull().sum() / len(df)) * 100\n",
    "\n",
    "# Créer un DataFrame contenant les pourcentages de valeurs manquantes\n",
    "missing_data = pd.DataFrame({'MissingPercentage': missing_percentages})\n",
    "missing_data "
   ]
  },
  {
   "cell_type": "code",
   "execution_count": null,
   "id": "cca4c9dc-64fb-4078-8ae3-7118a339813f",
   "metadata": {},
   "outputs": [],
   "source": [
    "# Filtrer les variables où le pourcentage de valeurs manquantes est supérieur à 80%\n",
    "variables_with_high_missing = missing_data[missing_data['MissingPercentage'] > 80]\n",
    "\n",
    "# Afficher les noms des variables avec un pourcentage élevé de valeurs manquantes\n",
    "print(\"Variables avec plus de 80% de valeurs manquantes:\")\n",
    "print(variables_with_high_missing.index.tolist())"
   ]
  },
  {
   "cell_type": "code",
   "execution_count": null,
   "id": "98f8278e-3caa-4356-80ec-e3fe841fdef8",
   "metadata": {},
   "outputs": [],
   "source": [
    "# On supprime les colonnes avec plus de 80% de valeurs vides \n",
    "df = df.drop([\"Enedc (g/km)\", \"Ernedc (g/km)\"], axis = 1)"
   ]
  },
  {
   "cell_type": "markdown",
   "id": "2240f98b-04fe-4497-95fb-911c5c2a6f86",
   "metadata": {},
   "source": [
    "### <font color='blue'> Renommer les variables :  </font>"
   ]
  },
  {
   "cell_type": "code",
   "execution_count": null,
   "id": "3ebe7ab4-de80-4a34-af69-a68c3e87ae0e",
   "metadata": {},
   "outputs": [],
   "source": [
    "rename = {\"Country\" : \"Pays\",\n",
    "          \"m (kg)\" : \"Masse\",\n",
    "          \"Ewltp (g/km)\" : \"Emission_co2_(g/km)\",\n",
    "          \"W (mm)\" : \"Empattement\",\n",
    "          \"At1 (mm)\" : \"Steering_axle_width\",\n",
    "          \"At2 (mm)\" : \"Other_axle_width\",\n",
    "          \"Ft\" : \"Fuel_type\",\n",
    "          \"ec (cm3)\" : \"Cylindrée\",\n",
    "          \"ep (KW)\" : \"Puissance_moteur\",\n",
    "          \"z (Wh/km)\" : \"Consommation_électrique\",\n",
    "          \"Erwltp (g/km)\" : \"Réduction_émissions_CO2(g/km)\",\n",
    "          \"Electric range (km)\" : \"Autonomie_électrique\",\n",
    "          \"Mp\" : \"Fabricant\"}\n",
    "\n",
    "df = df.rename(rename, axis = 1)"
   ]
  },
  {
   "cell_type": "markdown",
   "id": "4dd85235-8056-4d41-95c5-d64a885afccf",
   "metadata": {},
   "source": [
    "### <font color='blue'> Traiter les modalités sous-représentés et dont on n'a pas besoins: </font>"
   ]
  },
  {
   "cell_type": "code",
   "execution_count": null,
   "id": "12fcac42-5620-4b85-a473-e513b2000004",
   "metadata": {},
   "outputs": [],
   "source": [
    "#Calculer les pourcentages de chaque modalité de la variable Fuel_type : \n",
    "modalite_counts = df['Fuel_type'].value_counts(normalize=True)\n",
    "print(modalite_counts)\n",
    "# On supprime les modalités sous repésentées dans la la variable Fuel_type  \n",
    "df = df.loc[(df[\"Fuel_type\"]!=\"unknown\")&(df[\"Fuel_type\"]!=\"hydrogen\")&(df[\"Fuel_type\"]!=\"ng\")&(df[\"Fuel_type\"]!=\"e85\")&(df[\"Fuel_type\"]!=\"diesel/electric\")]\n"
   ]
  },
  {
   "cell_type": "code",
   "execution_count": null,
   "id": "7c3ebb93-3770-4955-813b-285fcb986067",
   "metadata": {},
   "outputs": [],
   "source": [
    "# On supprime les modalités sous repésentées dans la la variable Pays\n",
    "print(df[\"Pays\"].value_counts(normalize=True))\n",
    "df = df.loc[(df[\"Pays\"]==\"DE\")|(df[\"Pays\"]==\"FR\")|(df[\"Pays\"]==\"IT\")|(df[\"Pays\"]==\"ES\")]\n"
   ]
  },
  {
   "cell_type": "code",
   "execution_count": null,
   "id": "4d14b3a7-3d07-46e8-afe3-ae78101b8d1f",
   "metadata": {},
   "outputs": [],
   "source": [
    "# Suppression de la modalité \"electric\" de Fuel_type\n",
    "df = df.loc[df[\"Fuel_type\"]!=\"electric\"]\n"
   ]
  },
  {
   "cell_type": "markdown",
   "id": "d5922703-d5e7-48ad-8710-7e7b9a313a89",
   "metadata": {},
   "source": [
    "### <font color='blue'> Gérer les Nan des autres variables: </font>"
   ]
  },
  {
   "cell_type": "code",
   "execution_count": null,
   "id": "dbb90af1-ae16-4b4a-8e84-d2b492abf7ff",
   "metadata": {},
   "outputs": [],
   "source": [
    "# Nettoyage des variables spécifiques (non valable pour tous les types de véhicules)\n",
    "# il faut remplacer les NAN par des 0 dans les colonnes Autonomie_électrique et Consommation_électrique pour les véhicules non hybrides\n",
    "# Remplissage de NAN par 0 pour la colonne Réduction_émissions_CO2\n",
    "df.loc[df[\"Fuel_type\"] != \"petrol/electric\",\"Autonomie_électrique\"] = 0\n",
    "df.loc[df[\"Fuel_type\"] != \"petrol/electric\",\"Consommation_électrique\"] = 0\n",
    "df[\"Réduction_émissions_CO2(g/km)\"] = df[\"Réduction_émissions_CO2(g/km)\"].fillna(0)\n"
   ]
  },
  {
   "cell_type": "markdown",
   "id": "4ee44258-5d93-44e2-96f4-95706c5adc87",
   "metadata": {},
   "source": [
    "### <font color='blue'> Supprimer les valeurs manquantes que nous ne pouvons pas remplacer: </font>"
   ]
  },
  {
   "cell_type": "code",
   "execution_count": null,
   "id": "3ae4f561-7c78-4603-be4d-ddf8695b2e73",
   "metadata": {},
   "outputs": [],
   "source": [
    "df = df.dropna()"
   ]
  },
  {
   "cell_type": "markdown",
   "id": "218a948b-4bc6-4a6d-9fba-dd8f74471152",
   "metadata": {},
   "source": [
    "### <font color='blue'> features de variables: </font>"
   ]
  },
  {
   "cell_type": "code",
   "execution_count": null,
   "id": "514c2187-f1c9-41d4-8298-97b0df05ce68",
   "metadata": {},
   "outputs": [],
   "source": [
    "# Ajout de Moyenne_largeur_essieu et suppression de At1 et At2\n",
    "df[\"Moyenne_largeur_essieu\"]= (df[\"Steering_axle_width\"]+df[\"Other_axle_width\"])/2\n",
    "df = df.drop([\"Steering_axle_width\", \"Other_axle_width\"], axis = 1)"
   ]
  },
  {
   "cell_type": "markdown",
   "id": "88a10da9-f028-4db1-9423-0ed9ce649cab",
   "metadata": {},
   "source": [
    "### <font color='blue'> Gérer les outliers: </font>"
   ]
  },
  {
   "cell_type": "code",
   "execution_count": null,
   "id": "c46b3c64-7b31-43a9-87b1-d86bd8836cbd",
   "metadata": {},
   "outputs": [],
   "source": [
    "df = df.loc[(df[\"Masse\"]>400)&(df[\"Masse\"]<2160)]\n",
    "df = df.loc[(df[\"Puissance_moteur\"]>20)&(df[\"Puissance_moteur\"]<200)]\n"
   ]
  },
  {
   "cell_type": "markdown",
   "id": "4c54c2ad-33c3-49dd-8e8e-5c2a62bcf538",
   "metadata": {},
   "source": [
    "### <font color='blue'> Ajout de la Feature 1: </font>"
   ]
  },
  {
   "cell_type": "code",
   "execution_count": null,
   "id": "edf7b9d3-fba6-4628-8e4e-ae43a8f425c5",
   "metadata": {},
   "outputs": [],
   "source": [
    "#Conversion de l'empattement de millimètre en mètre\n",
    "df[\"Empattement\"] = df[\"Empattement\"]/1000\n",
    "#Conversion de la moyenne_largeur_essieu de millimètre en mètre\n",
    "df[\"Moyenne_largeur_essieu\"] = df[\"Moyenne_largeur_essieu\"]/1000\n",
    "\n",
    "# Ajout de la Feature 1 \n",
    "df['feature1']=df['Masse']/(df['Empattement']*(df['Moyenne_largeur_essieu']))\n",
    "df = df.drop([\"Masse\", \"Empattement\", \"Moyenne_largeur_essieu\"], axis = 1)\n"
   ]
  },
  {
   "cell_type": "code",
   "execution_count": null,
   "id": "74cb5cf3-4fd7-46ea-8021-15d6d5262e4d",
   "metadata": {},
   "outputs": [],
   "source": [
    "df.shape"
   ]
  },
  {
   "cell_type": "markdown",
   "id": "889a5115-eac9-4946-8902-b40b8b431695",
   "metadata": {},
   "source": [
    "### <font color='blue'> Heatmap des corrélations: </font>"
   ]
  },
  {
   "cell_type": "code",
   "execution_count": null,
   "id": "642957e2-7f42-4759-b826-f8fd36d3a072",
   "metadata": {},
   "outputs": [],
   "source": [
    "# Sélectionner uniquement les colonnes numériques\n",
    "numeric_df = df.select_dtypes(include=['number'])\n",
    "\n",
    "# Calculer la matrice de corrélation\n",
    "correlation_matrix = numeric_df.corr()\n",
    "\n",
    "# Créer la heatmap\n",
    "plt.figure(figsize=(12, 8))\n",
    "sns.heatmap(correlation_matrix, annot=True, cmap='coolwarm', center=0)\n",
    "plt.title('Heatmap des variables quantitatives du dataset') \n",
    "plt.show()\n"
   ]
  },
  {
   "cell_type": "markdown",
   "id": "39de344d-faf6-44c1-9f45-ff063969c1ef",
   "metadata": {},
   "source": [
    "# <font color='red'>3/ Data visualisation :</font>"
   ]
  },
  {
   "cell_type": "code",
   "execution_count": null,
   "id": "2e241215-43d9-4d09-a644-636abc30376b",
   "metadata": {},
   "outputs": [],
   "source": [
    "plt.figure(figsize=(10, 8))\n",
    "\n",
    "# Calcul de la moyenne des émissions de CO2 par marque\n",
    "avg_co2_by_brand = df.groupby('Fabricant')['Emission_co2_(g/km)'].mean().sort_values()\n",
    "\n",
    "# Création du graphique à barres horizontales\n",
    "bars = avg_co2_by_brand.plot(kind='barh', color='skyblue')  # Barres horizontales avec couleur skyblue\n",
    "plt.xlabel('Émissions moyennes de CO2')\n",
    "plt.ylabel('Fabricants')\n",
    "plt.title('Émissions moyennes de CO2 des constructeurs automobiles sans voitures electriques')\n",
    "# Modification de la taille de la police des étiquettes de l'axe des catégories\n",
    "plt.yticks(fontsize=8)\n",
    "\n",
    "# Ajout des annotations (valeurs) sur chaque barre\n",
    "for index, value in enumerate(avg_co2_by_brand):\n",
    "    # Affichage de la valeur de l'émission de CO2 au-dessus de chaque barre\n",
    "    plt.text(value, index, f'{value:.1f} g/km', va='center', ha='left', fontsize=8, color='black')\n",
    "    \n",
    "# Sauvegarde du graphique en tant que fichier PNG\n",
    "plt.savefig('emissions_co2_par_marque1.png', dpi=300)  # Spécifiez le nom du fichier et la résolution (dpi)\n",
    "\n",
    "plt.show()\n",
    "\n"
   ]
  },
  {
   "cell_type": "markdown",
   "id": "2df79e6e-0361-43ee-9fbf-fdf2cc1db612",
   "metadata": {},
   "source": [
    "# <font color='red'>Dichotomiser les variables categorielles :</font>"
   ]
  },
  {
   "cell_type": "code",
   "execution_count": null,
   "id": "bf9e873c-84a2-4631-a263-f1463ac9e630",
   "metadata": {},
   "outputs": [],
   "source": [
    "# Afficher les noms des colonnes catégorielles\n",
    "categorical_cols = df.select_dtypes(include=['object']).columns.tolist()\n",
    "\n",
    "# Utilisation de la fonction get_dummies de Pandas pour la dichotomisation\n",
    "fuel_dummies = pd.get_dummies(df['Fuel_type'], prefix='Fuel', drop_first=True)\n",
    "df = pd.concat([df, fuel_dummies], axis=1)\n",
    "\n",
    "country_dummies = pd.get_dummies(df['Pays'], prefix='Country', drop_first=True)\n",
    "df = pd.concat([df, country_dummies], axis=1)\n",
    "\n",
    "manufacturer_dummies = pd.get_dummies(df['Fabricant'], prefix='Manufacturer', drop_first=True)\n",
    "df = pd.concat([df, manufacturer_dummies], axis=1)\n",
    "#supprimer les variables 'pays', 'fabriquant' et 'fuel_type' :\n",
    "df = df.drop(['Fuel_type','Pays', 'Fabricant'], axis=1)  "
   ]
  },
  {
   "cell_type": "markdown",
   "id": "5844fe4f-8c92-45df-b377-9ced18fd46a1",
   "metadata": {},
   "source": [
    "Au cours de la modélisation nous allons analyser 3 dataframes : \n",
    "- df qui est le dataset complet comportanat les voitures thermiques et hybrides\n",
    "- df_thermiques pour les voitures thermiques \n",
    "- df_hybrides pour les voitures hybries\n"
   ]
  },
  {
   "cell_type": "markdown",
   "id": "38518e57-ca0a-4b4a-95e3-84e02088f2a2",
   "metadata": {},
   "source": [
    "### <font color='blue'> Datasets voitures thermiques et hybrides: </font>"
   ]
  },
  {
   "cell_type": "code",
   "execution_count": null,
   "id": "1bcc2262-6eac-441a-ac94-c6f2540b4460",
   "metadata": {},
   "outputs": [],
   "source": [
    "df_hybride = df[df['Consommation_électrique']!=0.0]\n",
    "df_hybride = df_hybride.drop(columns=['Fuel_lpg', 'Fuel_petrol'])\n",
    "\n",
    "df_thermique = df[df['Consommation_électrique']==0.0]\n",
    "df_thermique = df_thermique.drop(columns=['Autonomie_électrique','Consommation_électrique','Fuel_petrol/electric'])\n"
   ]
  },
  {
   "cell_type": "markdown",
   "id": "60fe255f-0aed-4630-8788-bd7c23e82a87",
   "metadata": {},
   "source": [
    "### <font color='blue'> Heatmap numero 2: </font>"
   ]
  },
  {
   "cell_type": "code",
   "execution_count": null,
   "id": "b6916d6e-9954-48af-99d6-280e7c4b4ffe",
   "metadata": {},
   "outputs": [],
   "source": [
    "# Calculer la matrice de corrélation\n",
    "correlation_matrix = df.corr()\n",
    "\n",
    "# Créer la heatmap\n",
    "plt.figure(figsize=(12, 8))\n",
    "sns.heatmap(correlation_matrix, annot=True, cmap='coolwarm', center=0)\n",
    "plt.title('Heatmap des corrélations')\n",
    "plt.show()\n"
   ]
  },
  {
   "cell_type": "markdown",
   "id": "73381f87-3d19-4b3e-ab19-caf4ce73aa02",
   "metadata": {},
   "source": [
    "### <font color='blue'> Supprimer Consommation electrique et Fuel_petrol/electric : </font>\n",
    "D'après la heatmap on voit une correlation entre 'Consommation electrique', 'Fuel_type/electric' et 'Autonomie electriques'. Nous avons choisi de ne garder que la variable 'Autonomie electriques' pour representer les voitures electriques."
   ]
  },
  {
   "cell_type": "code",
   "execution_count": null,
   "id": "11d399a3-693c-4cb2-814f-e9369eb3553b",
   "metadata": {},
   "outputs": [],
   "source": [
    "df = df.drop(['Consommation_électrique','Fuel_petrol/electric'], axis = 1)\n",
    "df_hybride = df_hybride.drop('Consommation_électrique', axis=1)\n"
   ]
  },
  {
   "cell_type": "markdown",
   "id": "936bcffe-29a8-469a-94ea-922978b51e63",
   "metadata": {},
   "source": [
    "### <font color='blue'> Heatmap numero 3: </font>\n"
   ]
  },
  {
   "cell_type": "code",
   "execution_count": null,
   "id": "6079d45d-34ca-445e-9ce4-49f5112f5cd3",
   "metadata": {},
   "outputs": [],
   "source": [
    "# Calculer la matrice de corrélation\n",
    "correlation_matrix = df.corr()\n",
    "\n",
    "# Créer la heatmap\n",
    "plt.figure(figsize=(12, 8))\n",
    "sns.heatmap(correlation_matrix, annot=True, cmap='coolwarm', center=0)\n",
    "plt.title('Heatmap des corrélations')\n",
    "plt.show()\n"
   ]
  },
  {
   "cell_type": "markdown",
   "id": "d8bfb8c5-a251-4702-96f4-3a10169628ab",
   "metadata": {},
   "source": [
    "### <font color='blue'> Exporter les Datasets au format CSV: </font>"
   ]
  },
  {
   "cell_type": "code",
   "execution_count": null,
   "id": "9fec6095-753c-408c-bf96-fa6590379378",
   "metadata": {},
   "outputs": [],
   "source": [
    "df_cleaned = df.to_csv('data_cleaned.csv')\n",
    "df_thermique = df_thermique.to_csv('data_thermique.csv')\n",
    "df_hybride = df_hybride.to_csv('data_hybride.csv')\n"
   ]
  }
 ],
 "metadata": {
  "kernelspec": {
   "display_name": "Python 3 (ipykernel)",
   "language": "python",
   "name": "python3"
  },
  "language_info": {
   "codemirror_mode": {
    "name": "ipython",
    "version": 3
   },
   "file_extension": ".py",
   "mimetype": "text/x-python",
   "name": "python",
   "nbconvert_exporter": "python",
   "pygments_lexer": "ipython3",
   "version": "3.11.5"
  }
 },
 "nbformat": 4,
 "nbformat_minor": 5
}
